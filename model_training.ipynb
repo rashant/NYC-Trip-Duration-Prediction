{
 "cells": [
  {
   "cell_type": "code",
   "execution_count": 15,
   "metadata": {},
   "outputs": [],
   "source": [
    "from sklearn.model_selection import train_test_split\n",
    "import lightgbm as lgbm\n",
    "import xgboost as xgb\n",
    "import pandas as pd\n",
    "import numpy as np"
   ]
  },
  {
   "cell_type": "code",
   "execution_count": 16,
   "metadata": {},
   "outputs": [],
   "source": [
    "df = pd.read_csv('filtered.csv')"
   ]
  },
  {
   "cell_type": "code",
   "execution_count": 17,
   "metadata": {},
   "outputs": [
    {
     "data": {
      "text/html": [
       "<div>\n",
       "<style scoped>\n",
       "    .dataframe tbody tr th:only-of-type {\n",
       "        vertical-align: middle;\n",
       "    }\n",
       "\n",
       "    .dataframe tbody tr th {\n",
       "        vertical-align: top;\n",
       "    }\n",
       "\n",
       "    .dataframe thead th {\n",
       "        text-align: right;\n",
       "    }\n",
       "</style>\n",
       "<table border=\"1\" class=\"dataframe\">\n",
       "  <thead>\n",
       "    <tr style=\"text-align: right;\">\n",
       "      <th></th>\n",
       "      <th>trip_duration</th>\n",
       "      <th>trip_distance</th>\n",
       "      <th>Temp.</th>\n",
       "      <th>Humidity</th>\n",
       "      <th>Pressure</th>\n",
       "      <th>Wind Speed</th>\n",
       "      <th>Conditions_0</th>\n",
       "      <th>Conditions_3</th>\n",
       "      <th>Conditions_4</th>\n",
       "      <th>day_0</th>\n",
       "      <th>...</th>\n",
       "      <th>month_2</th>\n",
       "      <th>month_3</th>\n",
       "      <th>month_4</th>\n",
       "      <th>month_5</th>\n",
       "      <th>Wind Dir_0</th>\n",
       "      <th>Wind Dir_1</th>\n",
       "      <th>Wind Dir_2</th>\n",
       "      <th>Wind Dir_3</th>\n",
       "      <th>Wind Dir_4</th>\n",
       "      <th>Wind Dir_6</th>\n",
       "    </tr>\n",
       "  </thead>\n",
       "  <tbody>\n",
       "    <tr>\n",
       "      <th>0</th>\n",
       "      <td>7.383333</td>\n",
       "      <td>-0.479681</td>\n",
       "      <td>0.414781</td>\n",
       "      <td>-0.579947</td>\n",
       "      <td>-0.232014</td>\n",
       "      <td>16.7</td>\n",
       "      <td>0</td>\n",
       "      <td>0</td>\n",
       "      <td>0</td>\n",
       "      <td>0</td>\n",
       "      <td>...</td>\n",
       "      <td>0</td>\n",
       "      <td>0</td>\n",
       "      <td>0</td>\n",
       "      <td>0</td>\n",
       "      <td>0</td>\n",
       "      <td>0</td>\n",
       "      <td>0</td>\n",
       "      <td>0</td>\n",
       "      <td>0</td>\n",
       "      <td>1</td>\n",
       "    </tr>\n",
       "    <tr>\n",
       "      <th>1</th>\n",
       "      <td>18.566667</td>\n",
       "      <td>-0.325430</td>\n",
       "      <td>-1.314320</td>\n",
       "      <td>-0.872333</td>\n",
       "      <td>2.270896</td>\n",
       "      <td>7.4</td>\n",
       "      <td>0</td>\n",
       "      <td>0</td>\n",
       "      <td>0</td>\n",
       "      <td>0</td>\n",
       "      <td>...</td>\n",
       "      <td>1</td>\n",
       "      <td>0</td>\n",
       "      <td>0</td>\n",
       "      <td>0</td>\n",
       "      <td>0</td>\n",
       "      <td>0</td>\n",
       "      <td>0</td>\n",
       "      <td>0</td>\n",
       "      <td>1</td>\n",
       "      <td>0</td>\n",
       "    </tr>\n",
       "    <tr>\n",
       "      <th>2</th>\n",
       "      <td>12.183333</td>\n",
       "      <td>-0.285420</td>\n",
       "      <td>1.214812</td>\n",
       "      <td>-0.287562</td>\n",
       "      <td>1.176659</td>\n",
       "      <td>16.7</td>\n",
       "      <td>1</td>\n",
       "      <td>0</td>\n",
       "      <td>0</td>\n",
       "      <td>0</td>\n",
       "      <td>...</td>\n",
       "      <td>0</td>\n",
       "      <td>0</td>\n",
       "      <td>1</td>\n",
       "      <td>0</td>\n",
       "      <td>1</td>\n",
       "      <td>0</td>\n",
       "      <td>0</td>\n",
       "      <td>0</td>\n",
       "      <td>0</td>\n",
       "      <td>0</td>\n",
       "    </tr>\n",
       "    <tr>\n",
       "      <th>3</th>\n",
       "      <td>8.100000</td>\n",
       "      <td>-0.154195</td>\n",
       "      <td>0.414781</td>\n",
       "      <td>-0.346039</td>\n",
       "      <td>-0.357788</td>\n",
       "      <td>16.7</td>\n",
       "      <td>0</td>\n",
       "      <td>0</td>\n",
       "      <td>0</td>\n",
       "      <td>0</td>\n",
       "      <td>...</td>\n",
       "      <td>1</td>\n",
       "      <td>0</td>\n",
       "      <td>0</td>\n",
       "      <td>0</td>\n",
       "      <td>0</td>\n",
       "      <td>1</td>\n",
       "      <td>0</td>\n",
       "      <td>0</td>\n",
       "      <td>0</td>\n",
       "      <td>0</td>\n",
       "    </tr>\n",
       "    <tr>\n",
       "      <th>4</th>\n",
       "      <td>7.050000</td>\n",
       "      <td>-0.399343</td>\n",
       "      <td>0.414781</td>\n",
       "      <td>-0.346039</td>\n",
       "      <td>-1.213054</td>\n",
       "      <td>7.4</td>\n",
       "      <td>0</td>\n",
       "      <td>0</td>\n",
       "      <td>0</td>\n",
       "      <td>0</td>\n",
       "      <td>...</td>\n",
       "      <td>0</td>\n",
       "      <td>0</td>\n",
       "      <td>1</td>\n",
       "      <td>0</td>\n",
       "      <td>0</td>\n",
       "      <td>0</td>\n",
       "      <td>0</td>\n",
       "      <td>0</td>\n",
       "      <td>1</td>\n",
       "      <td>0</td>\n",
       "    </tr>\n",
       "  </tbody>\n",
       "</table>\n",
       "<p>5 rows × 27 columns</p>\n",
       "</div>"
      ],
      "text/plain": [
       "   trip_duration  trip_distance     Temp.  Humidity  Pressure  Wind Speed  \\\n",
       "0       7.383333      -0.479681  0.414781 -0.579947 -0.232014        16.7   \n",
       "1      18.566667      -0.325430 -1.314320 -0.872333  2.270896         7.4   \n",
       "2      12.183333      -0.285420  1.214812 -0.287562  1.176659        16.7   \n",
       "3       8.100000      -0.154195  0.414781 -0.346039 -0.357788        16.7   \n",
       "4       7.050000      -0.399343  0.414781 -0.346039 -1.213054         7.4   \n",
       "\n",
       "   Conditions_0  Conditions_3  Conditions_4  day_0  ...  month_2  month_3  \\\n",
       "0             0             0             0      0  ...        0        0   \n",
       "1             0             0             0      0  ...        1        0   \n",
       "2             1             0             0      0  ...        0        0   \n",
       "3             0             0             0      0  ...        1        0   \n",
       "4             0             0             0      0  ...        0        0   \n",
       "\n",
       "   month_4  month_5  Wind Dir_0  Wind Dir_1  Wind Dir_2  Wind Dir_3  \\\n",
       "0        0        0           0           0           0           0   \n",
       "1        0        0           0           0           0           0   \n",
       "2        1        0           1           0           0           0   \n",
       "3        0        0           0           1           0           0   \n",
       "4        1        0           0           0           0           0   \n",
       "\n",
       "   Wind Dir_4  Wind Dir_6  \n",
       "0           0           1  \n",
       "1           1           0  \n",
       "2           0           0  \n",
       "3           0           0  \n",
       "4           1           0  \n",
       "\n",
       "[5 rows x 27 columns]"
      ]
     },
     "execution_count": 17,
     "metadata": {},
     "output_type": "execute_result"
    }
   ],
   "source": [
    "df.head()"
   ]
  },
  {
   "cell_type": "code",
   "execution_count": 18,
   "metadata": {},
   "outputs": [],
   "source": [
    "selected_features = ['trip_distance', 'Temp.', 'Humidity','Pressure', 'Wind Speed']"
   ]
  },
  {
   "cell_type": "code",
   "execution_count": 19,
   "metadata": {},
   "outputs": [],
   "source": [
    "x = df[selected_features]\n",
    "y = df['trip_duration']"
   ]
  },
  {
   "cell_type": "code",
   "execution_count": 20,
   "metadata": {},
   "outputs": [],
   "source": [
    "X_train, X_test, y_train, y_test = train_test_split(x, y, test_size=0.3, random_state=2018)\n",
    "X_train, X_val, y_train, y_val = train_test_split(X_train, y_train, test_size=0.25, random_state=2019)"
   ]
  },
  {
   "cell_type": "code",
   "execution_count": 21,
   "metadata": {},
   "outputs": [],
   "source": [
    "def rmsle(y_true, y_pred):\n",
    "    assert len(y_true) == len(y_pred)\n",
    "    return np.square(np.log(y_pred + 1) - np.log(y_true + 1)).mean()"
   ]
  },
  {
   "cell_type": "code",
   "execution_count": 22,
   "metadata": {},
   "outputs": [],
   "source": [
    "params = {\n",
    "    'booster':            'gbtree',\n",
    "    'objective':          'reg:linear',\n",
    "    'learning_rate':      0.05,\n",
    "    'max_depth':          14,\n",
    "    'subsample':          0.9,\n",
    "    'colsample_bytree':   0.7,\n",
    "    'colsample_bylevel':  0.7,\n",
    "    'silent':             1,\n",
    "    'feval':              'rmsle'\n",
    "}\n",
    "nrounds = 100"
   ]
  },
  {
   "cell_type": "code",
   "execution_count": 23,
   "metadata": {},
   "outputs": [
    {
     "name": "stdout",
     "output_type": "stream",
     "text": [
      "[16:55:38] WARNING: C:\\buildkite-agent\\builds\\buildkite-windows-cpu-autoscaling-group-i-0fdc6d574b9c0d168-1\\xgboost\\xgboost-ci-windows\\src\\objective\\regression_obj.cu:213: reg:linear is now deprecated in favor of reg:squarederror.\n",
      "[16:55:38] WARNING: C:\\buildkite-agent\\builds\\buildkite-windows-cpu-autoscaling-group-i-0fdc6d574b9c0d168-1\\xgboost\\xgboost-ci-windows\\src\\learner.cc:767: \n",
      "Parameters: { \"feval\", \"silent\" } are not used.\n",
      "\n",
      "[0]\teval-rmse:1.96308\ttrain-rmse:1.96524\n",
      "[1]\teval-rmse:1.86969\ttrain-rmse:1.87188\n",
      "[2]\teval-rmse:1.78127\ttrain-rmse:1.78350\n",
      "[3]\teval-rmse:1.69747\ttrain-rmse:1.69978\n",
      "[4]\teval-rmse:1.62350\ttrain-rmse:1.62590\n",
      "[5]\teval-rmse:1.55361\ttrain-rmse:1.55611\n",
      "[6]\teval-rmse:1.48190\ttrain-rmse:1.48444\n",
      "[7]\teval-rmse:1.41408\ttrain-rmse:1.41655\n",
      "[8]\teval-rmse:1.35499\ttrain-rmse:1.35757\n",
      "[9]\teval-rmse:1.29926\ttrain-rmse:1.30195\n",
      "[10]\teval-rmse:1.24693\ttrain-rmse:1.24973\n",
      "[11]\teval-rmse:1.19763\ttrain-rmse:1.20054\n",
      "[12]\teval-rmse:1.15142\ttrain-rmse:1.15441\n",
      "[13]\teval-rmse:1.10167\ttrain-rmse:1.10441\n",
      "[14]\teval-rmse:1.05477\ttrain-rmse:1.05724\n",
      "[15]\teval-rmse:1.01600\ttrain-rmse:1.01855\n",
      "[16]\teval-rmse:0.97971\ttrain-rmse:0.98235\n",
      "[17]\teval-rmse:0.93977\ttrain-rmse:0.94208\n",
      "[18]\teval-rmse:0.90219\ttrain-rmse:0.90432\n",
      "[19]\teval-rmse:0.87214\ttrain-rmse:0.87432\n",
      "[20]\teval-rmse:0.83864\ttrain-rmse:0.84043\n",
      "[21]\teval-rmse:0.80722\ttrain-rmse:0.80849\n",
      "[22]\teval-rmse:0.77780\ttrain-rmse:0.77846\n",
      "[23]\teval-rmse:0.75015\ttrain-rmse:0.75022\n",
      "[24]\teval-rmse:0.72833\ttrain-rmse:0.72838\n",
      "[25]\teval-rmse:0.70392\ttrain-rmse:0.70318\n",
      "[26]\teval-rmse:0.68112\ttrain-rmse:0.67974\n",
      "[27]\teval-rmse:0.65986\ttrain-rmse:0.65790\n",
      "[28]\teval-rmse:0.64315\ttrain-rmse:0.64114\n",
      "[29]\teval-rmse:0.62758\ttrain-rmse:0.62551\n",
      "[30]\teval-rmse:0.61335\ttrain-rmse:0.61122\n",
      "[31]\teval-rmse:0.59662\ttrain-rmse:0.59378\n",
      "[32]\teval-rmse:0.58115\ttrain-rmse:0.57742\n",
      "[33]\teval-rmse:0.56681\ttrain-rmse:0.56218\n",
      "[34]\teval-rmse:0.55337\ttrain-rmse:0.54763\n",
      "[35]\teval-rmse:0.54354\ttrain-rmse:0.53769\n",
      "[36]\teval-rmse:0.53204\ttrain-rmse:0.52489\n",
      "[37]\teval-rmse:0.52137\ttrain-rmse:0.51326\n",
      "[38]\teval-rmse:0.51362\ttrain-rmse:0.50537\n",
      "[39]\teval-rmse:0.50433\ttrain-rmse:0.49500\n",
      "[40]\teval-rmse:0.49593\ttrain-rmse:0.48528\n",
      "[41]\teval-rmse:0.48986\ttrain-rmse:0.47908\n",
      "[42]\teval-rmse:0.48251\ttrain-rmse:0.47028\n",
      "[43]\teval-rmse:0.47716\ttrain-rmse:0.46480\n",
      "[44]\teval-rmse:0.47071\ttrain-rmse:0.45692\n",
      "[45]\teval-rmse:0.46641\ttrain-rmse:0.45248\n",
      "[46]\teval-rmse:0.46091\ttrain-rmse:0.44559\n",
      "[47]\teval-rmse:0.45707\ttrain-rmse:0.44163\n",
      "[48]\teval-rmse:0.45231\ttrain-rmse:0.43563\n",
      "[49]\teval-rmse:0.44787\ttrain-rmse:0.43029\n",
      "[50]\teval-rmse:0.44388\ttrain-rmse:0.42518\n",
      "[51]\teval-rmse:0.44032\ttrain-rmse:0.42038\n",
      "[52]\teval-rmse:0.43783\ttrain-rmse:0.41777\n",
      "[53]\teval-rmse:0.43477\ttrain-rmse:0.41365\n",
      "[54]\teval-rmse:0.43259\ttrain-rmse:0.41137\n",
      "[55]\teval-rmse:0.43070\ttrain-rmse:0.40939\n",
      "[56]\teval-rmse:0.42814\ttrain-rmse:0.40516\n",
      "[57]\teval-rmse:0.42649\ttrain-rmse:0.40344\n",
      "[58]\teval-rmse:0.42432\ttrain-rmse:0.39995\n",
      "[59]\teval-rmse:0.42231\ttrain-rmse:0.39701\n",
      "[60]\teval-rmse:0.42042\ttrain-rmse:0.39418\n",
      "[61]\teval-rmse:0.41928\ttrain-rmse:0.39298\n",
      "[62]\teval-rmse:0.41814\ttrain-rmse:0.39178\n",
      "[63]\teval-rmse:0.41714\ttrain-rmse:0.39072\n",
      "[64]\teval-rmse:0.41619\ttrain-rmse:0.38971\n",
      "[65]\teval-rmse:0.41480\ttrain-rmse:0.38730\n",
      "[66]\teval-rmse:0.41399\ttrain-rmse:0.38645\n",
      "[67]\teval-rmse:0.41330\ttrain-rmse:0.38572\n",
      "[68]\teval-rmse:0.41221\ttrain-rmse:0.38353\n",
      "[69]\teval-rmse:0.41153\ttrain-rmse:0.38281\n",
      "[70]\teval-rmse:0.41097\ttrain-rmse:0.38222\n",
      "[71]\teval-rmse:0.41044\ttrain-rmse:0.38166\n",
      "[72]\teval-rmse:0.40994\ttrain-rmse:0.38114\n",
      "[73]\teval-rmse:0.40906\ttrain-rmse:0.37925\n",
      "[74]\teval-rmse:0.40814\ttrain-rmse:0.37767\n",
      "[75]\teval-rmse:0.40741\ttrain-rmse:0.37581\n",
      "[76]\teval-rmse:0.40677\ttrain-rmse:0.37393\n",
      "[77]\teval-rmse:0.40647\ttrain-rmse:0.37360\n",
      "[78]\teval-rmse:0.40616\ttrain-rmse:0.37326\n",
      "[79]\teval-rmse:0.40563\ttrain-rmse:0.37185\n",
      "[80]\teval-rmse:0.40514\ttrain-rmse:0.37033\n",
      "[81]\teval-rmse:0.40469\ttrain-rmse:0.36883\n",
      "[82]\teval-rmse:0.40430\ttrain-rmse:0.36750\n",
      "[83]\teval-rmse:0.40393\ttrain-rmse:0.36605\n",
      "[84]\teval-rmse:0.40359\ttrain-rmse:0.36502\n",
      "[85]\teval-rmse:0.40333\ttrain-rmse:0.36474\n",
      "[86]\teval-rmse:0.40311\ttrain-rmse:0.36451\n",
      "[87]\teval-rmse:0.40291\ttrain-rmse:0.36430\n",
      "[88]\teval-rmse:0.40270\ttrain-rmse:0.36407\n",
      "[89]\teval-rmse:0.40243\ttrain-rmse:0.36291\n",
      "[90]\teval-rmse:0.40227\ttrain-rmse:0.36275\n",
      "[91]\teval-rmse:0.40215\ttrain-rmse:0.36262\n",
      "[92]\teval-rmse:0.40194\ttrain-rmse:0.36167\n",
      "[93]\teval-rmse:0.40167\ttrain-rmse:0.36066\n",
      "[94]\teval-rmse:0.40153\ttrain-rmse:0.36052\n",
      "[95]\teval-rmse:0.40131\ttrain-rmse:0.35923\n",
      "[96]\teval-rmse:0.40116\ttrain-rmse:0.35826\n",
      "[97]\teval-rmse:0.40101\ttrain-rmse:0.35745\n",
      "[98]\teval-rmse:0.40086\ttrain-rmse:0.35680\n",
      "[99]\teval-rmse:0.40075\ttrain-rmse:0.35601\n"
     ]
    }
   ],
   "source": [
    "dtrain = xgb.DMatrix(X_train, np.log(y_train+1))\n",
    "dval = xgb.DMatrix(X_val, np.log(y_val+1))\n",
    "\n",
    "#this is for tracking the error\n",
    "watchlist = [(dval, 'eval'), (dtrain, 'train')]\n",
    "gbm = xgb.train(params,\n",
    "                dtrain,\n",
    "                num_boost_round = nrounds,\n",
    "                evals = watchlist,\n",
    "                verbose_eval = True\n",
    "                )"
   ]
  },
  {
   "cell_type": "code",
   "execution_count": 24,
   "metadata": {},
   "outputs": [],
   "source": [
    "pred = np.exp(gbm.predict(xgb.DMatrix(X_test))) - 1"
   ]
  },
  {
   "cell_type": "code",
   "execution_count": 25,
   "metadata": {},
   "outputs": [
    {
     "data": {
      "text/plain": [
       "5.506066296132972"
      ]
     },
     "execution_count": 25,
     "metadata": {},
     "output_type": "execute_result"
    }
   ],
   "source": [
    "mae = (abs(pred - y_test)).mean()\n",
    "mae"
   ]
  },
  {
   "cell_type": "code",
   "execution_count": 46,
   "metadata": {},
   "outputs": [],
   "source": [
    "params = {\n",
    "    'booster':            'gbtree',\n",
    "    'fobj':               'reg:linear',\n",
    "    'learning_rate':      0.001,\n",
    "    'max_depth':          14,\n",
    "    'num_leaves':        2^14 + 1,\n",
    "    'subsample':          0.9,\n",
    "    'colsample_bytree':   0.7,\n",
    "    'colsample_bylevel':  0.7,\n",
    "    'verbose_eval' :      1,\n",
    "    'feval':              'rmsle'\n",
    "}\n",
    "nrounds = 800"
   ]
  },
  {
   "cell_type": "code",
   "execution_count": 47,
   "metadata": {},
   "outputs": [],
   "source": [
    "dtrain = lgbm.Dataset(X_train, np.log(y_train+1))\n",
    "dval = lgbm.Dataset(X_val, np.log(y_val+1), reference=dtrain)\n",
    "\n",
    "#this is for tracking the error\n",
    "watchlist = [(dtrain, 'train'), (dval, 'eval')]"
   ]
  },
  {
   "cell_type": "code",
   "execution_count": 48,
   "metadata": {},
   "outputs": [
    {
     "name": "stdout",
     "output_type": "stream",
     "text": [
      "[LightGBM] [Warning] Unknown parameter: booster\n",
      "[LightGBM] [Warning] Unknown parameter: fobj\n",
      "[LightGBM] [Warning] Unknown parameter: verbose_eval\n",
      "[LightGBM] [Warning] Unknown parameter: colsample_bylevel\n",
      "[LightGBM] [Warning] Unknown parameter: feval\n"
     ]
    },
    {
     "name": "stdout",
     "output_type": "stream",
     "text": [
      "[LightGBM] [Warning] Found whitespace in feature_names, replace with underlines\n",
      "[LightGBM] [Warning] Unknown parameter: booster\n",
      "[LightGBM] [Warning] Unknown parameter: fobj\n",
      "[LightGBM] [Warning] Unknown parameter: verbose_eval\n",
      "[LightGBM] [Warning] Unknown parameter: colsample_bylevel\n",
      "[LightGBM] [Warning] Unknown parameter: feval\n",
      "[LightGBM] [Warning] Auto-choosing col-wise multi-threading, the overhead of testing was 0.028069 seconds.\n",
      "You can set `force_col_wise=true` to remove the overhead.\n",
      "[LightGBM] [Info] Total Bins 624\n",
      "[LightGBM] [Info] Number of data points in the train set: 215993, number of used features: 5\n",
      "[LightGBM] [Warning] Unknown parameter: booster\n",
      "[LightGBM] [Warning] Unknown parameter: fobj\n",
      "[LightGBM] [Warning] Unknown parameter: verbose_eval\n",
      "[LightGBM] [Warning] Unknown parameter: colsample_bylevel\n",
      "[LightGBM] [Warning] Unknown parameter: feval\n",
      "[LightGBM] [Warning] Found whitespace in feature_names, replace with underlines\n",
      "[LightGBM] [Info] Start training from score 2.447457\n"
     ]
    }
   ],
   "source": [
    "bst = lgbm.train(params,\n",
    "                dtrain,\n",
    "                num_boost_round = nrounds,\n",
    "                valid_sets = [dtrain, dval],\n",
    "                valid_names = ['train', 'valid'],\n",
    "                categorical_feature = [20, 24]\n",
    "                )"
   ]
  },
  {
   "cell_type": "code",
   "execution_count": 49,
   "metadata": {},
   "outputs": [],
   "source": [
    "pred = np.exp(bst.predict(X_test)) - 1"
   ]
  },
  {
   "cell_type": "code",
   "execution_count": 50,
   "metadata": {},
   "outputs": [
    {
     "data": {
      "text/plain": [
       "6.992069983145163"
      ]
     },
     "execution_count": 50,
     "metadata": {},
     "output_type": "execute_result"
    }
   ],
   "source": [
    "mae = (abs(pred - y_test)).mean()\n",
    "mae"
   ]
  }
 ],
 "metadata": {
  "kernelspec": {
   "display_name": "Python 3",
   "language": "python",
   "name": "python3"
  },
  "language_info": {
   "codemirror_mode": {
    "name": "ipython",
    "version": 3
   },
   "file_extension": ".py",
   "mimetype": "text/x-python",
   "name": "python",
   "nbconvert_exporter": "python",
   "pygments_lexer": "ipython3",
   "version": "3.10.8"
  },
  "orig_nbformat": 4
 },
 "nbformat": 4,
 "nbformat_minor": 2
}
